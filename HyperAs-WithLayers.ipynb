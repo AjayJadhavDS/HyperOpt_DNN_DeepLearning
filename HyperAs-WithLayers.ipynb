{
 "cells": [
  {
   "cell_type": "code",
   "execution_count": 2,
   "id": "ba503e18",
   "metadata": {},
   "outputs": [],
   "source": [
    "from hyperopt import Trials, STATUS_OK, tpe\n",
    "from keras.datasets import mnist\n",
    "from keras.layers.core import Dense, Dropout, Activation\n",
    "from keras.models import Sequential\n",
    "from keras.utils import np_utils\n",
    "import numpy as np\n",
    "from hyperas import optim\n",
    "from keras.models import model_from_json\n",
    "from keras.models import Sequential\n",
    "from keras.layers.core import Dense, Dropout, Activation, Flatten\n",
    "from keras.layers.convolutional import Convolution2D, MaxPooling2D\n",
    "from keras.optimizers import SGD , Adam\n",
    "import tensorflow as tf\n",
    "from hyperas.distributions import choice, uniform"
   ]
  },
  {
   "cell_type": "code",
   "execution_count": null,
   "id": "d7ae4648",
   "metadata": {},
   "outputs": [],
   "source": []
  },
  {
   "cell_type": "code",
   "execution_count": 3,
   "id": "702ffcff",
   "metadata": {},
   "outputs": [],
   "source": [
    "from pandas import read_csv\n",
    "from tensorflow.keras.models import Sequential\n",
    "from tensorflow.keras.layers import Dense\n",
    "from tensorflow.keras.optimizers import SGD\n",
    "from scikeras.wrappers import KerasClassifier\n",
    "from sklearn.model_selection import cross_val_score\n",
    "from sklearn.preprocessing import LabelEncoder\n",
    "from sklearn.model_selection import StratifiedKFold\n",
    "from sklearn.preprocessing import StandardScaler\n",
    "from sklearn.pipeline import Pipeline\n",
    "# load dataset\n"
   ]
  },
  {
   "cell_type": "code",
   "execution_count": 4,
   "id": "bbae89b6",
   "metadata": {},
   "outputs": [],
   "source": [
    "dataframe = read_csv(\"C:/Users/ajjadhav/OneDrive - Nice Systems Ltd/Desktop/DataRobot/Sonar.csv\", header=None)\n",
    "dataset = dataframe.values"
   ]
  },
  {
   "cell_type": "code",
   "execution_count": 5,
   "id": "5636412c",
   "metadata": {},
   "outputs": [],
   "source": [
    "X = dataset[:,0:60].astype(float)\n",
    "Y = dataset[:,60]\n",
    "# encode class values as integers\n",
    "encoder = LabelEncoder()\n",
    "encoder.fit(Y)\n",
    "encoded_Y = encoder.transform(Y)"
   ]
  },
  {
   "cell_type": "code",
   "execution_count": 6,
   "id": "eb33bebe",
   "metadata": {},
   "outputs": [
    {
     "data": {
      "text/plain": [
       "(208,)"
      ]
     },
     "execution_count": 6,
     "metadata": {},
     "output_type": "execute_result"
    }
   ],
   "source": [
    "encoded_Y.shape"
   ]
  },
  {
   "cell_type": "code",
   "execution_count": 7,
   "id": "445347b8",
   "metadata": {},
   "outputs": [],
   "source": [
    "from sklearn.model_selection import train_test_split\n",
    "X_train, X_test, y_train, y_test = train_test_split(X, encoded_Y, test_size=0.33, random_state=42)"
   ]
  },
  {
   "cell_type": "code",
   "execution_count": 9,
   "id": "2558cc1a",
   "metadata": {},
   "outputs": [
    {
     "data": {
      "text/plain": [
       "(139, 60)"
      ]
     },
     "execution_count": 9,
     "metadata": {},
     "output_type": "execute_result"
    }
   ],
   "source": [
    "X_train.shape"
   ]
  },
  {
   "cell_type": "markdown",
   "id": "fc91a0f4",
   "metadata": {},
   "source": [
    "## HyperOpt"
   ]
  },
  {
   "cell_type": "code",
   "execution_count": 35,
   "id": "ba8362a9",
   "metadata": {},
   "outputs": [],
   "source": [
    "from hyperopt.pyll.base import scope \n",
    "from hyperopt import hp\n",
    "#quniform returns float, some parameters require int; use this to force int\n",
    "space = {'rate'      : hp.uniform('rate',0.01,0.5),\n",
    "         'units'     : scope.int(hp.quniform('units',10,100,5)),\n",
    "        'batch_size' : scope.int(hp.quniform('batch_size',100,250,25)),\n",
    "        'layers'     : scope.int(hp.quniform('layers',1,20,1))}"
   ]
  },
  {
   "cell_type": "code",
   "execution_count": 36,
   "id": "11689a42",
   "metadata": {},
   "outputs": [
    {
     "data": {
      "text/plain": [
       "{'rate': <hyperopt.pyll.base.Apply at 0x19021528dc0>,\n",
       " 'units': <hyperopt.pyll.base.Apply at 0x190215285b0>,\n",
       " 'batch_size': <hyperopt.pyll.base.Apply at 0x19021528bb0>,\n",
       " 'layers': <hyperopt.pyll.base.Apply at 0x19021528670>}"
      ]
     },
     "execution_count": 36,
     "metadata": {},
     "output_type": "execute_result"
    }
   ],
   "source": [
    "space"
   ]
  },
  {
   "cell_type": "code",
   "execution_count": 47,
   "id": "54a03019",
   "metadata": {},
   "outputs": [],
   "source": [
    "def f_nn(params):\n",
    "    model = Sequential()\n",
    "    if params['layers'] == 1:\n",
    "        model.add(Dense(units=params['units'], input_shape=(60,), activation='relu'))\n",
    "        model.add(Dropout(rate=params['rate']))\n",
    "    else:\n",
    "        for i in range(params['layers']-2):\n",
    "            model.add(Dense(units=params['units'], input_shape=(60,), activation='relu'))\n",
    "            model.add(Dropout(rate=params['rate']))\n",
    "    \n",
    "    model.add(Dense(1, activation='sigmoid'))\n",
    "    \n",
    "    sgd = SGD(learning_rate=0.01, momentum=0.8)\n",
    "    model.compile(loss='binary_crossentropy', optimizer=sgd, metrics=['accuracy'])\n",
    "    \n",
    "   \n",
    "    result = model.fit(X_train, y_train, \n",
    "                       verbose=0, \n",
    "                       validation_split=0.1,\n",
    "                       batch_size=params['batch_size'],\n",
    "                       epochs=200)\n",
    "    validation_loss = np.amin(result.history['val_loss'])\n",
    "    return {'loss': validation_loss, \n",
    "            'status': STATUS_OK, \n",
    "            'model': model, \n",
    "            'params': params}\n"
   ]
  },
  {
   "cell_type": "code",
   "execution_count": 48,
   "id": "ba4401d4",
   "metadata": {},
   "outputs": [],
   "source": [
    "from hyperopt import fmin"
   ]
  },
  {
   "cell_type": "code",
   "execution_count": 49,
   "id": "a5df3f75",
   "metadata": {},
   "outputs": [
    {
     "name": "stdout",
     "output_type": "stream",
     "text": [
      "100%|████████████████████████████████████████████████| 50/50 [04:14<00:00,  5.09s/trial, best loss: 0.4973742365837097]\n"
     ]
    }
   ],
   "source": [
    "trials = Trials()\n",
    "best = fmin(f_nn, \n",
    "            space, \n",
    "            algo=tpe.suggest,\n",
    "            max_evals=50,\n",
    "            trials=trials)"
   ]
  },
  {
   "cell_type": "code",
   "execution_count": 50,
   "id": "f2c7ace8",
   "metadata": {},
   "outputs": [],
   "source": [
    "best_model = trials.results[np.argmin([r['loss'] for r in trials.results])]['model']\n",
    "best_params = trials.results[np.argmin([r['loss'] for r in trials.results])]['params']\n",
    "worst_model = trials.results[np.argmax([r['loss'] for r in trials.results])]['model']\n",
    "worst_params = trials.results[np.argmax([r['loss'] for r in trials.results])]['params']"
   ]
  },
  {
   "cell_type": "code",
   "execution_count": 51,
   "id": "5d563cf3",
   "metadata": {},
   "outputs": [
    {
     "data": {
      "text/plain": [
       "{'batch_size': 100, 'layers': 5, 'rate': 0.06112723092304209, 'units': 50}"
      ]
     },
     "execution_count": 51,
     "metadata": {},
     "output_type": "execute_result"
    }
   ],
   "source": [
    "best_params"
   ]
  },
  {
   "cell_type": "code",
   "execution_count": 53,
   "id": "6032dea0",
   "metadata": {},
   "outputs": [
    {
     "data": {
      "text/plain": [
       "{'batch_size': 150, 'layers': 11, 'rate': 0.4150231356043799, 'units': 75}"
      ]
     },
     "execution_count": 53,
     "metadata": {},
     "output_type": "execute_result"
    }
   ],
   "source": [
    "worst_params"
   ]
  },
  {
   "cell_type": "code",
   "execution_count": 54,
   "id": "cb17524e",
   "metadata": {},
   "outputs": [
    {
     "data": {
      "text/plain": [
       "<keras.engine.sequential.Sequential at 0x19016416160>"
      ]
     },
     "execution_count": 54,
     "metadata": {},
     "output_type": "execute_result"
    }
   ],
   "source": [
    "best_model"
   ]
  },
  {
   "cell_type": "code",
   "execution_count": 52,
   "id": "9a537e19",
   "metadata": {},
   "outputs": [
    {
     "name": "stdout",
     "output_type": "stream",
     "text": [
      "3/3 [==============================] - 0s 2ms/step\n"
     ]
    },
    {
     "data": {
      "text/plain": [
       "array([[0.9479809 ],\n",
       "       [0.45860237],\n",
       "       [0.92198724],\n",
       "       [0.14804772]], dtype=float32)"
      ]
     },
     "execution_count": 52,
     "metadata": {},
     "output_type": "execute_result"
    }
   ],
   "source": [
    "best_model.predict(X_test)[1:5]"
   ]
  },
  {
   "cell_type": "code",
   "execution_count": 60,
   "id": "376dd681",
   "metadata": {},
   "outputs": [
    {
     "name": "stdout",
     "output_type": "stream",
     "text": [
      "You must install pydot (`pip install pydot`) and install graphviz (see instructions at https://graphviz.gitlab.io/download/) for plot_model/model_to_dot to work.\n"
     ]
    }
   ],
   "source": [
    "import tensorflow as tf\n",
    "dot_img_file = 'model_1.png'\n",
    "tf.keras.utils.plot_model(best_model, to_file=dot_img_file, show_shapes=True)"
   ]
  },
  {
   "cell_type": "code",
   "execution_count": null,
   "id": "c113e806",
   "metadata": {},
   "outputs": [],
   "source": []
  }
 ],
 "metadata": {
  "kernelspec": {
   "display_name": "Python 3",
   "language": "python",
   "name": "python3"
  },
  "language_info": {
   "codemirror_mode": {
    "name": "ipython",
    "version": 3
   },
   "file_extension": ".py",
   "mimetype": "text/x-python",
   "name": "python",
   "nbconvert_exporter": "python",
   "pygments_lexer": "ipython3",
   "version": "3.8.3"
  }
 },
 "nbformat": 4,
 "nbformat_minor": 5
}
